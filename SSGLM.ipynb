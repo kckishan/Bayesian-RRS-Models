{
 "cells": [
  {
   "cell_type": "code",
   "execution_count": 5,
   "metadata": {},
   "outputs": [],
   "source": [
    "import torch\n",
    "import torchvision\n",
    "from torchvision import datasets, transforms\n",
    "import matplotlib.pyplot as plt\n",
    "import torch.nn as nn\n",
    "import torch.nn.functional as F\n",
    "from IPython.display import clear_output as clr\n",
    "import os\n",
    "import numpy as np\n",
    "from scipy.special import beta as BETA"
   ]
  },
  {
   "cell_type": "code",
   "execution_count": 6,
   "metadata": {},
   "outputs": [
    {
     "data": {
      "text/plain": [
       "<Figure size 432x288 with 0 Axes>"
      ]
     },
     "metadata": {},
     "output_type": "display_data"
    }
   ],
   "source": [
    "device = \"cpu\"\n",
    "if(torch.cuda.is_available()):\n",
    "    deivce = \"gpu\"\n",
    "\n",
    "torch.autograd.set_detect_anomaly(True)\n",
    "plt.set_cmap(\"gray\")"
   ]
  },
  {
   "cell_type": "code",
   "execution_count": 7,
   "metadata": {},
   "outputs": [],
   "source": [
    "class IBP:\n",
    "    def __init__(self, alpha):\n",
    "        self.alpha = alpha\n",
    "    \n",
    "    def rand(self, n, k_max):\n",
    "        Z = []\n",
    "        for i in range(n):\n",
    "            nu = torch.distributions.beta.Beta(self.alpha,1).sample([k_max,1])\n",
    "            p = self.break_stick_ibp(nu)\n",
    "            z = torch.distributions.bernoulli.Bernoulli(p).sample().view(1,-1)\n",
    "            Z.append(z)\n",
    "        \n",
    "        Z = torch.cat(Z, 0)\n",
    "        return Z\n",
    "    \n",
    "    def rand_nu(self, nu, n= 1):\n",
    "        p = self.break_stick_ibp(nu)\n",
    "        Z = torch.distributions.bernoulli.Bernoulli(p).sample([n])\n",
    "        return Z\n",
    "    \n",
    "    def break_stick_ibp(self, nu):\n",
    "        K_max = nu.shape[0]\n",
    "        p = []\n",
    "        p.append(nu[0,:])\n",
    "        for k in range(1,K_max):\n",
    "            p.append(p[k-1]*nu[k,:])\n",
    "        \n",
    "        p = torch.cat(p,0)\n",
    "        return p\n",
    "        \n",
    "    def break_log_stick_ibp(self, lognu):\n",
    "        K_max = nu.shape[0]\n",
    "        logp = []\n",
    "        logp.append(lognu[0,:])\n",
    "        for k in range(1,K_max):\n",
    "            logp.append(logp[k-1] + lognu[k,:])\n",
    "        \n",
    "        logp = torch.cat(logp, 0)\n",
    "        return logp"
   ]
  },
  {
   "cell_type": "code",
   "execution_count": 8,
   "metadata": {},
   "outputs": [
    {
     "data": {
      "text/plain": [
       "<matplotlib.image.AxesImage at 0x7f8633ff7908>"
      ]
     },
     "execution_count": 8,
     "metadata": {},
     "output_type": "execute_result"
    },
    {
     "data": {
      "image/png": "[encoded data removed]",
      "text/plain": [
       "<Figure size 432x288 with 4 Axes>"
      ]
     },
     "metadata": {
      "needs_background": "light"
     },
     "output_type": "display_data"
    },
    {
     "data": {
      "image/png": "[encoded data removed]",
      "text/plain": [
       "<Figure size 432x288 with 4 Axes>"
      ]
     },
     "metadata": {
      "needs_background": "light"
     },
     "output_type": "display_data"
    }
   ],
   "source": [
    "# Synthetic Data Genration\n",
    "\n",
    "'''Basis Generation'''\n",
    "k1 = np.zeros((6,6))\n",
    "k1[0:3,1] = 1.0\n",
    "k1[1,0:3] = 1.0\n",
    "\n",
    "k2 = np.zeros((6,6))\n",
    "k2[0:3,-3:] = 1.0\n",
    "k2[1,-2] = 0\n",
    "\n",
    "k3 = np.zeros((6,6))\n",
    "k3[-3:,0:3] = 1.0\n",
    "k3[-3:-1,2] = 0.0\n",
    "k3[-3,1:2] = 0.0\n",
    "\n",
    "k4 = np.zeros((6,6))\n",
    "k4[-3:,-2] = 1.0\n",
    "k4[-3,-3:] = 1.0\n",
    "\n",
    "fig, ax = plt.subplots(1,4)\n",
    "\n",
    "ax[0].imshow(k1)\n",
    "ax[1].imshow(k2)\n",
    "ax[2].imshow(k3)\n",
    "ax[3].imshow(k4)\n",
    "\n",
    "\n",
    "'''Data Generation'''\n",
    "\n",
    "train_size = 3000\n",
    "test_size = 500\n",
    "prior = IBP(4.0)\n",
    "\n",
    "# train_weights = prior.rand(train_size,4)\n",
    "train_weights = np.random.rand(train_size, 4)>0.5\n",
    "train_data = np.dot(train_weights,np.array([k1.reshape(-1,1),k2.reshape(-1,1),k3.reshape(-1,1),k4.reshape(-1,1)]).reshape(4,-1))\n",
    "train_data += np.random.normal(0,0.1, size = [train_size,36])\n",
    "train_data = np.clip(train_data, a_min = 0, a_max = 1)\n",
    "\n",
    "test_weights = prior.rand(test_size,4)\n",
    "test_data = np.dot(test_weights,np.array([k1.reshape(-1,1),k2.reshape(-1,1),k3.reshape(-1,1),k4.reshape(-1,1)]).reshape(4,-1))\n",
    "test_data += np.random.normal(0,0.1, size = [test_size,36])\n",
    "test_data = np.clip(test_data, a_min = 0, a_max = 1)\n",
    "\n",
    "fig, ax = plt.subplots(1,4)\n",
    "\n",
    "ax[0].imshow(train_data[0].reshape(6,6))\n",
    "ax[1].imshow(train_data[300].reshape(6,6))\n",
    "ax[2].imshow(test_data[0].reshape(6,6))\n",
    "ax[3].imshow(test_data[300].reshape(6,6))"
   ]
  },
  {
   "cell_type": "code",
   "execution_count": 9,
   "metadata": {},
   "outputs": [
    {
     "name": "stdout",
     "output_type": "stream",
     "text": [
      "Done !\n"
     ]
    }
   ],
   "source": [
    "BATCH_SIZE = 100\n",
    "\n",
    "trainloader = torch.utils.data.DataLoader(train_data.reshape(-1,1,6,6), batch_size=BATCH_SIZE,\n",
    "                                          shuffle=True, num_workers=2)\n",
    "print(\"Done !\")"
   ]
  },
  {
   "cell_type": "code",
   "execution_count": 10,
   "metadata": {},
   "outputs": [
    {
     "data": {
      "image/png": "[encoded data removed]",
      "text/plain": [
       "<Figure size 432x288 with 1 Axes>"
      ]
     },
     "metadata": {
      "needs_background": "light"
     },
     "output_type": "display_data"
    }
   ],
   "source": [
    "def show_images(images):\n",
    "    images = torchvision.utils.make_grid(images)\n",
    "    show_image(images[0])\n",
    "\n",
    "def show_image(img):\n",
    "    plt.imshow(img, cmap='gray')\n",
    "    plt.show()\n",
    "\n",
    "dataiter = iter(trainloader)\n",
    "images = dataiter.next()\n",
    "show_images(images)"
   ]
  },
  {
   "cell_type": "code",
   "execution_count": 11,
   "metadata": {},
   "outputs": [],
   "source": [
    "def get_rho_prob(rhos):\n",
    "    \n",
    "    rho_np = rhos.detach().numpy().reshape(-1)\n",
    "    mt = rho_np.copy()\n",
    "    \n",
    "    for i in range(1,mt.shape[0]):\n",
    "        prod = 1\n",
    "        for j in range(i):\n",
    "            prod*=rhos[j]\n",
    "    \n",
    "        mt[i-1] = prod*(1-rhos[i])\n",
    "\n",
    "    return mt"
   ]
  },
  {
   "cell_type": "code",
   "execution_count": 12,
   "metadata": {},
   "outputs": [],
   "source": [
    "class GLM_NP(nn.Module):\n",
    "    def __init__(self, latent_variable_dim, prior , rholr = 10e-12, lr = 0.01):\n",
    "        super(GLM_NP, self).__init__()\n",
    "        \n",
    "        alpha = prior.alpha\n",
    "        self.prior = prior\n",
    "        \n",
    "        ### Global Params\n",
    "        self.eps1 = torch.tensor(10e-6).float()\n",
    "        self.eps2 = torch.tensor(10e-4).float()\n",
    "        self.lr = lr\n",
    "        self.D = 36\n",
    "        self.sigX = 0.1\n",
    "    \n",
    "        # Encoder\n",
    "        self.h_dim = 36\n",
    "        self.mlp = nn.Linear(36,self.h_dim,'relu')\n",
    "        \n",
    "        # structured SBC\n",
    "        self.aeys = nn.Parameter(torch.zeros(latent_variable_dim, 1) + self.inv_softplus(alpha) + torch.rand(latent_variable_dim,1)*0.01)\n",
    "        self.bees = nn.Parameter(torch.zeros(latent_variable_dim, 1) + self.inv_softplus(torch.tensor(1.0)) + torch.rand(latent_variable_dim,1)*0.01)\n",
    "        self.alpha = alpha\n",
    "        self.beta = 1.0\n",
    "        \n",
    "        \n",
    "        self.unif_sampler = torch.distributions.uniform.Uniform(self.eps1, 1-self.eps1)\n",
    "        self.euler_constant = -torch.digamma(torch.tensor(1.0))\n",
    "        \n",
    "        # Z : GumbelBernoulli\n",
    "        self.phi = nn.Parameter(torch.randn((self.h_dim + 1),latent_variable_dim)*0.001)\n",
    "        self.temperature = 10\n",
    "        self.t_prior = 0.1 # prior lambda\n",
    "\n",
    "        \n",
    "        # Basis\n",
    "        self.A = nn.Parameter(torch.randn(latent_variable_dim, self.D)*0.001)\n",
    "        \n",
    "        ### Russian Roulette part\n",
    "        self.rhos = torch.zeros(latent_variable_dim + 1,1) + 0.5\n",
    "        self.rholr = rholr\n",
    "        \n",
    "        ## Optimizer\n",
    "        self.optimizer = None\n",
    "        self.K = latent_variable_dim\n",
    "        self.max_K = latent_variable_dim\n",
    "        \n",
    "        \n",
    "        self.print = False\n",
    "        \n",
    "                             \n",
    "    def inv_softplus(self, alpha):\n",
    "        return torch.log(torch.exp(alpha) - 1)\n",
    "    \n",
    "    def softplus(self, x):\n",
    "        return torch.log(1 + torch.exp(x))\n",
    "    \n",
    "    def sample_nupi(self, N, K, sample_size = 1):\n",
    "        \n",
    "        a = self.softplus(self.aeys)[:K,:].view(K,1)\n",
    "        b = self.softplus(self.bees)[:K,:].view(K,1)\n",
    "        \n",
    "        U = self.unif_sampler.sample([K,sample_size])\n",
    "        nu = (1-(U+self.eps1).pow(1/a) + self.eps1 ).pow(1/b).view(1,-1, sample_size)[0]\n",
    "        py = self.prior.rand_nu(nu, N).view(N,-1, sample_size)\n",
    "        \n",
    "        return nu, py\n",
    "        \n",
    "    \n",
    "    def GumbelBernoulliLogitLazyDense(self, x, k):\n",
    "        \n",
    "        N, D = x.shape\n",
    "        \n",
    "        x_cat = torch.cat((x.view(N,self.h_dim), torch.ones(N).view(N,-1)), 1).view(N,D+1)\n",
    "        inter_z = torch.mm(x_cat, self.phi[:,:k])\n",
    "        z, gi, pi, py = self.reparameterize_gumbel_kumaraswamy(inter_z, k) # N x K\n",
    "        return z, gi, pi, py\n",
    "    \n",
    "    def encode(self, x, k):\n",
    "        \n",
    "        h = self.mlp(x)\n",
    "        z, gi, pi, py = self.GumbelBernoulliLogitLazyDense(h, k)\n",
    "        return z,gi,pi,py\n",
    "        \n",
    "    \n",
    "    def reparameterize_gumbel_kumaraswamy(self, inter_z, p):\n",
    "        '''Proper Sampling is required with masking'''\n",
    "        \n",
    "        N, K = inter_z.shape\n",
    "        sample_size = 10\n",
    "        \n",
    "        G1 = self.unif_sampler.sample([N,K,sample_size])\n",
    "        logit_G1 = G1.log() - (1-G1).log() \n",
    "        \n",
    "        nu, pi = self.sample_nupi(N, K,sample_size) # K x sample_size\n",
    "        \n",
    "#         pi = self.prior.rand_nu(1, V)\n",
    "        \n",
    "        logit_pi = ((pi + self.eps1)/(1-pi + self.eps1)).log()\n",
    "        logit_alpha = logit_pi + inter_z.view(N,K,1)\n",
    "        alpha = logit_alpha.sigmoid()\n",
    "        \n",
    "        z1 = (logit_alpha + logit_G1)/self.temperature\n",
    "        \n",
    "        y = z1.sigmoid()\n",
    "        \n",
    "        return y, alpha, pi, nu\n",
    "        \n",
    "    def forward(self, input, k):\n",
    "        x = input.view(-1, self.D)\n",
    "        N, D = x.shape\n",
    "        \n",
    "        if(k == 0):\n",
    "            k = self.get_current_K()\n",
    "            \n",
    "        z, gi, pi, py = self.encode(x,k)\n",
    "        x = self.decode(z.mean(dim=-1).view(N,k), k)\n",
    "        \n",
    "        return x, z, gi, pi, py\n",
    "\n",
    "    \n",
    "    def decode(self, z, k):\n",
    "        x = torch.mm(z, self.A[:k,:])\n",
    "        return x\n",
    "    \n",
    "    \n",
    "    def add_k_node(self, k):\n",
    "        # Add k latent features ...\n",
    "        if(k == 0):\n",
    "            return \n",
    "        with torch.no_grad():\n",
    "            self.aeys = nn.Parameter(torch.cat((self.aeys, torch.rand(k,1)*0.01 + self.softplus(self.alpha)), 0))\n",
    "            self.bees = nn.Parameter(torch.cat((self.bees, torch.rand(k,1)*0.01 + self.softplus(torch.tensor(1.0))), 0))\n",
    "            \n",
    "            self.phi = nn.Parameter(torch.cat((self.phi, torch.randn((self.h_dim + 1),k)), 1))\n",
    "            self.A = nn.Parameter(torch.cat((self.A, torch.randn(k, self.D)), 0))\n",
    "            \n",
    "            \n",
    "            self.rhos = torch.cat((self.rhos, torch.zeros(k,1) + 0.5), 0)\n",
    "    \n",
    "    def del_k_node(self, k):\n",
    "        # Retain k Latent Features ...\n",
    "        if(k == 0 or k == self.get_current_K()):\n",
    "            return\n",
    "        with torch.no_grad():\n",
    "            c_K = self.get_current_K()\n",
    "            \n",
    "            self.aeys = nn.Parameter(list(torch.split(self.aeys, c_K - k , 0))[0])\n",
    "            self.bees = nn.Parameter(list(torch.split(self.bees, c_K - k , 0))[0])\n",
    "            \n",
    "            self.phi = nn.Parameter(list(torch.split(self.phi, c_K - k , 1))[0])\n",
    "            self.A = nn.Parameter(list(torch.split(self.A, c_K - k , 0))[0])\n",
    "            \n",
    "            self.rhos = list(torch.split(self.rhos, c_K - k + 1, 0))[0]\n",
    "                             \n",
    "    def get_current_K(self):\n",
    "        return self.K\n",
    "    \n",
    "    def constraint_proj(self):\n",
    "        with torch.no_grad():\n",
    "            self.aeys[self.aeys < 0.1] = 0.1\n",
    "            self.bees[self.bees < 0.1] = 0.1\n",
    "            self.rhos[self.rhos < 10e-6] = 10e-6\n",
    "            self.rhos[self.rhos > 1 - 10e-6] = 1 - 10e-6\n",
    "            self.A[self.A<0]=0.0\n",
    "            pass\n",
    "        \n",
    "    def dynamize_Adam(self, reset = False, amsgrad = True):\n",
    "        \n",
    "        if(reset or self.optimizer == None):\n",
    "            self.optimizer = torch.optim.Adam(self.parameters(), self.lr, amsgrad = amsgrad)\n",
    "            self.optimizer.step()\n",
    "        else:\n",
    "            optim = self.optimizer\n",
    "            newoptim = torch.optim.Adam(self.parameters(), self.lr)\n",
    "            \n",
    "            for i in range(len(optim.param_groups)):\n",
    "                group_old = optim.param_groups[i]\n",
    "                group_new = newoptim.param_groups[i]\n",
    "                \n",
    "                for j in range(len(group_old['params'])):\n",
    "                    params_old = group_old['params'][j]\n",
    "                    params_new = group_new['params'][j]\n",
    "                    \n",
    "                    amsgrad = group_old['amsgrad']\n",
    "                    newoptim.param_groups[i]['amsgrad'] = amsgrad\n",
    "                    \n",
    "                    \n",
    "                    state_old = optim.state[params_old]\n",
    "                    state_new = newoptim.state[params_new]\n",
    "                    \n",
    "                    state_new['step'] = 1#state_old['step']\n",
    "                    \n",
    "                    state_new['exp_avg'] = torch.zeros_like(params_new.data)\n",
    "                    state_new['exp_avg_sq'] = torch.zeros_like(params_new.data)\n",
    "                    \n",
    "                    \n",
    "                    \n",
    "                    exp_avg = state_new['exp_avg']\n",
    "                    exp_avg_sq = state_new['exp_avg_sq']\n",
    "                    max_exp_avg_sq = None\n",
    "                    if(amsgrad):\n",
    "                        state_new['max_exp_avg_sq'] = torch.zeros_like(params_new.data)\n",
    "                        max_exp_avg_sq = state_new['max_exp_avg_sq']\n",
    "                    \n",
    "                    if(len(state_old['exp_avg'].shape)==2):\n",
    "                        no,do = state_old['exp_avg'].shape\n",
    "                        exp_avg[:no,:do] = state_old['exp_avg']\n",
    "                        exp_avg_sq[:no,:do] = state_old['exp_avg_sq']\n",
    "                        if(max_exp_avg_sq is not None):\n",
    "                            max_exp_avg_sq[:no,:do] = state_old['max_exp_avg_sq']\n",
    "                        \n",
    "                    elif(len(state_old['exp_avg'].shape)==1):\n",
    "                        no = state_old['exp_avg'].shape[0]\n",
    "                        exp_avg[:no] = state_old['exp_avg']\n",
    "                        exp_avg_sq[:no] = state_old['exp_avg_sq']\n",
    "                        if(max_exp_avg_sq is not None):\n",
    "                            max_exp_avg_sq[:no] = state_old['max_exp_avg_sq']\n",
    "                        \n",
    "                    else:\n",
    "                        assert 1 == 2 ,'error in dynamic adam'\n",
    "                        \n",
    "                    state_new['exp_avg'] = exp_avg\n",
    "                    state_new['exp_avg_sq'] = exp_avg_sq\n",
    "\n",
    "                    newoptim.state[params_new] = state_new\n",
    "                    \n",
    "            self.optimizer = newoptim"
   ]
  },
  {
   "cell_type": "code",
   "execution_count": 245,
   "metadata": {},
   "outputs": [],
   "source": [
    "def retain_k_nodes(model , new_K = 0):\n",
    "    \n",
    "    current_K = model.max_K\n",
    "    if(current_K < new_K):\n",
    "        model.add_k_node(new_K - current_K)\n",
    "        model.max_K = new_K\n",
    "    elif(current_K > new_K):\n",
    "        model.del_k_node(current_K - new_K)\n",
    "    else:\n",
    "        pass\n",
    "    \n",
    "    model.K = new_K"
   ]
  },
  {
   "cell_type": "code",
   "execution_count": 265,
   "metadata": {},
   "outputs": [],
   "source": [
    "def rrs_loss(model, images, fixed = False):\n",
    "    \n",
    "    curr_K = model.K\n",
    "    l = torch.zeros(curr_K+1,1)\n",
    "    N = images.shape[0]\n",
    "    global_multiplier = 1#(N/3000)*1000\n",
    "    _, z, gi, pi, nu = model(images, 0)\n",
    "    softplus = model.softplus\n",
    "    eps = model.eps1\n",
    "    \n",
    "    a = model.softplus(model.aeys)[:curr_K,:].view(curr_K,1)\n",
    "    b = model.softplus(model.bees)[:curr_K,:].view(curr_K,1)\n",
    "    KL_kuma = ((a - model.alpha)/(a))*(-model.euler_constant -torch.digamma(b) - 1/b)\n",
    "    KL_kuma += (a.log() + b.log()) + torch.log(torch.tensor(BETA(model.alpha,1)))\n",
    "    KL_kuma -= (b - 1)/(b) \n",
    "    KL_kuma = (KL_kuma*global_multiplier).view(1,-1) # K \n",
    "    l[1:,:] += KL_kuma.view(curr_K,1).cumsum(0)\n",
    "    KL_kuma_w = KL_kuma[:,:curr_K].sum()\n",
    "    \n",
    "    \n",
    "    logit_pi = (pi+eps).log() - (1-pi+eps).log()\n",
    "    logit_x  =  (z+eps).log() - (1 -z+eps).log()\n",
    "    logit_gi = (gi+eps).log() - (1-gi+eps).log()\n",
    "\n",
    "    tau = model.temperature\n",
    "    tau_prior = model.t_prior\n",
    "    exp_term_p = logit_pi - logit_x*(tau)\n",
    "    exp_term_q = logit_gi - logit_x*(tau_prior)\n",
    "    log_tau = torch.log(torch.tensor(model.temperature, requires_grad = False))\n",
    "    log_pz = log_tau + exp_term_p - 2.0*softplus(exp_term_p)\n",
    "    log_qz = log_tau + exp_term_q - 2.0*softplus(exp_term_q)\n",
    "    \n",
    "    qz = log_qz.exp()\n",
    "    KL_gumb = (log_qz - log_pz)\n",
    "    \n",
    "    \n",
    "    KL_gumb[KL_gumb != KL_gumb] = 0\n",
    "    KL_gumb = KL_gumb.mean(dim =-1).mean(dim = 0).view(1,-1)#.abs()\n",
    "    l[1:,:] +=KL_gumb.view(curr_K,1).cumsum(0)\n",
    "    KL_gumb_w = KL_gumb.sum()\n",
    "    \n",
    "    \n",
    "    \n",
    "    lik_loss = 0\n",
    "    for i in range(1,curr_K+1):\n",
    "        sigma2X = 0.01\n",
    "        recon_image = model.decode(z[:,:i,:].mean(dim=-1).view(N,i), i)\n",
    "        Lik = -(0.5/sigma2X)*(recon_image - images.view(-1,36)).pow(2)\n",
    "        Lik = torch.sum(Lik)/N - float(36*0.5*np.log(2*np.pi*sigma2X))\n",
    "        lik_loss += Lik\n",
    "        l[i,:] -= Lik\n",
    "        \n",
    "    \n",
    "    l_final = - lik_loss + KL_gumb_w + KL_kuma_w\n",
    "    \n",
    "    if(model.print):\n",
    "        print(Lik , KL_gumb_w , KL_kuma_w)\n",
    "    if(not fixed):\n",
    "        return l, l_final\n",
    "    else:\n",
    "        return l,  KL_gumb[:-1,:].sum() + KL_kuma[:-1,:].sum() + l[-1,:].sum()"
   ]
  },
  {
   "cell_type": "code",
   "execution_count": 266,
   "metadata": {},
   "outputs": [],
   "source": [
    "def train_step(model, images, sample_max = 5, sample = False, keep_graph = False):\n",
    "    \n",
    "    \"\"\" sample a trucation level and then do the same\"\"\"\n",
    "    \n",
    "    curr_K = model.get_current_K()\n",
    "    model.rhos[0] = 0.9999\n",
    "    \n",
    "    with torch.no_grad():\n",
    "        rhos = list(model.rhos)[:curr_K+1]\n",
    "        L = len(rhos)\n",
    "        samples = []\n",
    "    \n",
    "        for i in range(sample_max):\n",
    "\n",
    "            k = 1\n",
    "\n",
    "            while(True):\n",
    "                u = np.random.uniform()\n",
    "                if(u > rhos[k]):\n",
    "                    samples.append(k)\n",
    "                    break\n",
    "                k += 1\n",
    "\n",
    "                if(k > L-1 and sample):\n",
    "                    rhos.append(0.5)\n",
    "                    L = len(rhos)\n",
    "                elif(k > L-1):\n",
    "                    break\n",
    "                \n",
    "    \n",
    "                \n",
    "    samples.sort()\n",
    "    if(sample):\n",
    "        curr_K = model.get_current_K()\n",
    "        new_value = int(np.max(samples[-5:]))\n",
    "        \n",
    "        if(new_value > model.max_K):\n",
    "            model.optimizer = retain_k_nodes(model , new_K = new_value)\n",
    "            model.K = new_value\n",
    "            model.max_K = new_value\n",
    "            model.dynamize_Adam()\n",
    "        else:\n",
    "            retain_k_nodes(model , new_K = model.max_K)\n",
    "            model.K = new_value\n",
    "            \n",
    "    else:\n",
    "        new_value = curr_K\n",
    "        \n",
    "    with torch.no_grad():\n",
    "        curr_K = model.K\n",
    "        while(len(rhos)<curr_K+1):\n",
    "            rhos.append(0.5)\n",
    "            \n",
    "        if(model.print):\n",
    "            print(\"Current Truncated Level :\", new_value)\n",
    "            print(model.rhos)\n",
    "        \n",
    "    model.optimizer.zero_grad()\n",
    "    curr_K = model.get_current_K()\n",
    "    \n",
    "    l , l_final_params = rrs_loss(model, images, fixed = False)\n",
    "    \n",
    "    if(l_final_params != l_final_params):\n",
    "        pass\n",
    "    else:\n",
    "        l_final_params.backward()\n",
    "        model.optimizer.step()\n",
    "        model.constraint_proj()\n",
    "        \n",
    "        rgg = torch.zeros_like(model.rhos)\n",
    "        for ck in samples:\n",
    "            ckp1 = ck + 1\n",
    "            rho_grads = [torch.tensor([0.0])]\n",
    "            rho_rr = list(model.rhos)[:ckp1]\n",
    "            l_rr = l[ck]\n",
    "\n",
    "\n",
    "            for k in range(1,ckp1):\n",
    "                grad = torch.tensor([0.0])\n",
    "                if(k < ck):\n",
    "                    wi = 1/rho_rr[k]\n",
    "                else:\n",
    "                    wi = 1/(rho_rr[k]-1)\n",
    "                \n",
    "                grad += wi*l_rr        \n",
    "                rho_grads.append(grad)\n",
    "                \n",
    "            rho_grads = torch.tensor(rho_grads).view(-1,1)\n",
    "            rgg[:ckp1] += rho_grads\n",
    "\n",
    "        rgg/=len(samples)\n",
    "        rho_grads = rgg[:curr_K+1]\n",
    "\n",
    "        rho_grads = rho_grads.clamp(-100,100)\n",
    "        rho_grads[rho_grads != rho_grads] = 0.0\n",
    "        rho_logit = ((model.rhos).log() - (1 - model.rhos).log())[:curr_K+1]\n",
    "        sig_rho = rho_logit.sigmoid()\n",
    "\n",
    "\n",
    "        rho_logit[:curr_K+1,:] = rho_logit[:curr_K+1,:] - model.rholr*(sig_rho*(1-sig_rho)*rho_grads.view(-1,1))\n",
    "        with torch.no_grad():\n",
    "            model.rhos[:curr_K+1,:] = rho_logit.sigmoid()\n",
    "\n",
    "    return l_final_params"
   ]
  },
  {
   "cell_type": "code",
   "execution_count": 267,
   "metadata": {},
   "outputs": [],
   "source": [
    "prior = IBP(torch.tensor(2.0))\n",
    "glm = GLM_NP(1,prior,5*10e-4,0.01)"
   ]
  },
  {
   "cell_type": "code",
   "execution_count": 268,
   "metadata": {},
   "outputs": [],
   "source": [
    "## train\n",
    "train_loss = []\n",
    "glm.temperature = 10.0\n",
    "keep_graph = True"
   ]
  },
  {
   "cell_type": "code",
   "execution_count": 269,
   "metadata": {},
   "outputs": [],
   "source": [
    "glm.dynamize_Adam(True)"
   ]
  },
  {
   "cell_type": "code",
   "execution_count": 270,
   "metadata": {},
   "outputs": [],
   "source": [
    "glm.lr = 0.01\n",
    "glm.rholr = 10e-3"
   ]
  },
  {
   "cell_type": "code",
   "execution_count": null,
   "metadata": {},
   "outputs": [
    {
     "name": "stdout",
     "output_type": "stream",
     "text": [
      "Epoch no : 6 batch_no : 10 curr_loss : 7.084512939453125 temp : 2.014924701331157 lr : 0.01\n",
      "Current Truncated Level : 6\n",
      "tensor([[0.9999],\n",
      "        [0.9216],\n",
      "        [0.8090],\n",
      "        [0.8111],\n",
      "        [0.3486],\n",
      "        [0.3741],\n",
      "        [0.4504],\n",
      "        [0.6131],\n",
      "        [0.4947],\n",
      "        [0.4183],\n",
      "        [0.4615],\n",
      "        [0.5622]])\n",
      "tensor(-162.3134, grad_fn=<SubBackward0>) tensor(-18.9031, grad_fn=<SumBackward0>) tensor(0.0059, grad_fn=<SumBackward0>)\n"
     ]
    }
   ],
   "source": [
    "for epoch in range(20):\n",
    "    \n",
    "    for i, data in enumerate(trainloader, 0):\n",
    "        images = data.float()\n",
    "        images = images.to(device)\n",
    "            \n",
    "        if(i%1== 0 and True):\n",
    "            l = train_step(glm, images, 10, True, keep_graph)\n",
    "        else:\n",
    "            l = train_step(glm, images, 10, False, keep_graph)\n",
    "        \n",
    "        train_loss.append((l/((1 - glm.rhos[:glm.K]).sum())).item() / len(images))\n",
    "        \n",
    "        glm.temperature /= 1.01\n",
    "        if(glm.temperature < .1):\n",
    "            glm.temperature = 0.1\n",
    "        \n",
    "        glm.print = False\n",
    "\n",
    "        if(i%10 == 0):\n",
    "            clr(wait = True)\n",
    "            print(\"Epoch no :\", epoch + 1, \"batch_no :\", i, \"curr_loss :\",  train_loss[-1], \"temp :\", glm.temperature, \"lr :\", glm.lr)\n",
    "            glm.print = True\n",
    "        \n",
    "        glm.dynamize_Adam()  \n",
    "#         glm.rhos[glm.K:]= 0.5\n",
    "        \n",
    "plt.plot(train_loss)\n",
    "plt.show()"
   ]
  },
  {
   "cell_type": "code",
   "execution_count": 259,
   "metadata": {},
   "outputs": [
    {
     "data": {
      "image/png": "[encoded data removed]",
      "text/plain": [
       "<Figure size 1008x432 with 7 Axes>"
      ]
     },
     "metadata": {
      "needs_background": "light"
     },
     "output_type": "display_data"
    }
   ],
   "source": [
    "probs = get_rho_prob(glm.rhos)[:-1]\n",
    "K = np.floor(np.random.choice(np.arange(glm.rhos.shape[0]-1), p = probs/probs.sum(), size = 1000).mean()).astype(np.int)+3\n",
    "fig, ax = plt.subplots(1,K, figsize = [2*K,6])\n",
    "for i in range(K):\n",
    "    f = ax[i].imshow((glm.A[i].abs()).view(6,6).detach(), cmap= 'gray', vmin = 0 , vmax = 1)\n",
    "\n",
    "plt.savefig('sample.png')\n",
    "plt.show()"
   ]
  },
  {
   "cell_type": "code",
   "execution_count": 260,
   "metadata": {},
   "outputs": [],
   "source": [
    "recon_image, z, gi, pi, _ = glm(images, 3)"
   ]
  },
  {
   "cell_type": "code",
   "execution_count": 261,
   "metadata": {},
   "outputs": [
    {
     "data": {
      "text/plain": [
       "[<matplotlib.lines.Line2D at 0x7f86300b70b8>]"
      ]
     },
     "execution_count": 261,
     "metadata": {},
     "output_type": "execute_result"
    },
    {
     "data": {
      "image/png": "[encoded data removed]",
      "text/plain": [
       "<Figure size 432x288 with 1 Axes>"
      ]
     },
     "metadata": {
      "needs_background": "light"
     },
     "output_type": "display_data"
    }
   ],
   "source": [
    "plt.plot(z[95,:,0].detach().numpy())"
   ]
  },
  {
   "cell_type": "code",
   "execution_count": 262,
   "metadata": {},
   "outputs": [
    {
     "data": {
      "text/plain": [
       "(tensor(0., grad_fn=<MinBackward1>), tensor(2.7236, grad_fn=<MaxBackward1>))"
      ]
     },
     "execution_count": 262,
     "metadata": {},
     "output_type": "execute_result"
    }
   ],
   "source": [
    "glm.A.min(), glm.A.max()"
   ]
  },
  {
   "cell_type": "code",
   "execution_count": 263,
   "metadata": {},
   "outputs": [
    {
     "data": {
      "image/png": "[encoded data removed]",
      "text/plain": [
       "<Figure size 432x288 with 10 Axes>"
      ]
     },
     "metadata": {
      "needs_background": "light"
     },
     "output_type": "display_data"
    }
   ],
   "source": [
    "fig, ax = plt.subplots(2,5)\n",
    "for k in range(5):\n",
    "    \n",
    "    idx = np.random.choice(np.arange(gi.shape[0]))\n",
    "\n",
    "    z = ax[0][k].imshow(recon_image[idx,:].view(6,6).detach())\n",
    "    z = ax[1][k].imshow(images[idx,:].view(6,6).detach())\n",
    "\n",
    "ax[0][0].set_ylabel('reconstruncted', rotation=90, size='large')\n",
    "ax[1][0].set_ylabel('original_noisy', rotation=90, size='large')\n",
    "plt.savefig('Recons')\n",
    "plt.show()"
   ]
  },
  {
   "cell_type": "code",
   "execution_count": 243,
   "metadata": {},
   "outputs": [
    {
     "data": {
      "image/png": "[encoded data removed]",
      "text/plain": [
       "<Figure size 432x288 with 1 Axes>"
      ]
     },
     "metadata": {
      "needs_background": "light"
     },
     "output_type": "display_data"
    }
   ],
   "source": [
    "plt.plot(get_rho_prob(glm.rhos)[:-1])\n",
    "plt.title(\"Distribbution over K\")\n",
    "plt.savefig(\"dist_K.png\")"
   ]
  },
  {
   "cell_type": "code",
   "execution_count": 225,
   "metadata": {},
   "outputs": [
    {
     "data": {
      "image/png": "[encoded data removed]",
      "text/plain": [
       "<Figure size 432x288 with 1 Axes>"
      ]
     },
     "metadata": {
      "needs_background": "light"
     },
     "output_type": "display_data"
    }
   ],
   "source": [
    "plt.plot(train_loss)\n",
    "plt.title(\"Scaled Training loss\")\n",
    "plt.savefig('Training_loss')\n",
    "plt.show()"
   ]
  },
  {
   "cell_type": "code",
   "execution_count": null,
   "metadata": {},
   "outputs": [],
   "source": []
  }
 ],
 "metadata": {
  "kernelspec": {
   "display_name": "Python 3",
   "language": "python",
   "name": "python3"
  },
  "language_info": {
   "codemirror_mode": {
    "name": "ipython",
    "version": 3
   },
   "file_extension": ".py",
   "mimetype": "text/x-python",
   "name": "python",
   "nbconvert_exporter": "python",
   "pygments_lexer": "ipython3",
   "version": "3.7.3"
  }
 },
 "nbformat": 4,
 "nbformat_minor": 4
}
